{
 "cells": [
  {
   "cell_type": "code",
   "execution_count": 5,
   "metadata": {},
   "outputs": [],
   "source": [
    "import json\n",
    "import os\n",
    "import csv\n",
    "import pandas as pd\n",
    "from nltk.corpus import stopwords\n"
   ]
  },
  {
   "cell_type": "code",
   "execution_count": 9,
   "metadata": {},
   "outputs": [],
   "source": [
    "\n",
    "# Fungsi untuk membaca kamus slang\n",
    "def load_slang_dict(path):\n",
    "    \"\"\"Memuat kamus kata slang dari file JSON\"\"\"\n",
    "    try:\n",
    "        with open(path, 'r') as f:\n",
    "            return json.load(f)\n",
    "    except FileNotFoundError:\n",
    "        print(f\"Kamus slang tidak ditemukan di {path}\")\n",
    "        return {}\n",
    "\n",
    "# Fungsi untuk memuat stopwords kustom\n",
    "def load_custom_stopwords(path):\n",
    "    \"\"\"Memuat stopwords kustom dari file\"\"\"\n",
    "    try:\n",
    "        with open(path, 'r') as f:\n",
    "            return f.read().splitlines()\n",
    "    except FileNotFoundError:\n",
    "        print(f\"File stopwords tidak ditemukan di {path}\")\n",
    "        return []\n",
    "\n",
    "# Fungsi untuk mengganti kata slang di teks berdasarkan kamus slang\n",
    "def replace_slang_in_text(text, slang_dict):\n",
    "    \"\"\"Mengganti kata slang dalam teks berdasarkan kamus slang\"\"\"\n",
    "    return [\" \".join(slang_dict.get(word, word) for word in line.split()) for line in text]\n",
    "\n",
    "# Fungsi untuk menghapus stopwords dari teks\n",
    "def remove_stopwords_from_text(text, stopwords_list):\n",
    "    \"\"\"Menghapus stopwords dari teks\"\"\"\n",
    "    return [\" \".join(word for word in line.split() if word not in stopwords_list) for line in text]\n",
    "\n",
    "# Fungsi untuk menyimpan hasil ke file CSV\n",
    "def save_to_csv(df, output_file):\n",
    "    \"\"\"Menyimpan DataFrame ke file CSV\"\"\"\n",
    "    df.to_csv(output_file, index=False)\n",
    "    print(f\"Hasil disimpan di {output_file}\")\n",
    "\n",
    "# Fungsi utama untuk menjalankan semua langkah dalam pipeline\n",
    "def process_text_pipeline(input_csv, slang_file, stopwords_file):\n",
    "    \"\"\"Pipeline utama untuk memproses teks, mengganti slang, dan menghapus stopwords\"\"\"\n",
    "    \n",
    "    # Langkah 1: Memuat kamus slang\n",
    "    slang_dict = load_slang_dict(slang_file)\n",
    "\n",
    "    # Langkah 2: Memuat data dari CSV\n",
    "    df = pd.read_csv(input_csv)\n",
    "    \n",
    "    # Gunakan kolom 'text_clean' sebagai input teks\n",
    "    text = df['text_stopword'].fillna('')  # Pastikan tidak ada nilai NaN\n",
    "\n",
    "    # Langkah 3: Mengganti kata slang di teks\n",
    "    text_slang_replaced = replace_slang_in_text(text, slang_dict)\n",
    "    df['text_slang'] = text_slang_replaced  # Simpan hasil penggantian slang ke kolom baru\n",
    "\n",
    "    # Langkah 4: Memuat stopwords kustom dan NLTK\n",
    "    custom_stopwords = load_custom_stopwords(stopwords_file)\n",
    "    stopwords_list = stopwords.words('indonesian')\n",
    "    stopwords_list.extend(custom_stopwords)\n",
    "\n",
    "    # Langkah 5: Menghapus stopwords dari teks\n",
    "    text_no_stopwords = remove_stopwords_from_text(text_slang_replaced, stopwords_list)\n",
    "    df['text_no_stopwords'] = text_no_stopwords  # Simpan hasil penghapusan stopwords ke kolom baru\n",
    "\n",
    "    # Simpan hasil ke CSV\n",
    "    output_file = os.path.splitext(input_csv)[0] + '_processed.csv'\n",
    "    save_to_csv(df, output_file)\n",
    "\n"
   ]
  },
  {
   "cell_type": "code",
   "execution_count": 10,
   "metadata": {},
   "outputs": [
    {
     "name": "stdout",
     "output_type": "stream",
     "text": [
      "Hasil disimpan di 03_hasil-stopword-filter_processed.csv\n"
     ]
    }
   ],
   "source": [
    "# Path file input dan kamus\n",
    "input_csv = '03_hasil-stopword-filter.csv'  # Input file yang diunggah\n",
    "slang_file = \"kamus/nasalsabila_kamus-alay/_json_colloquial-indonesian-lexicon.txt\"\n",
    "stopwords_file = 'kamus/masdevid_id-stopwords/id.stopwords.02.01.2016.txt'\n",
    "\n",
    "# Menjalankan pipeline\n",
    "process_text_pipeline(input_csv, slang_file, stopwords_file)\n"
   ]
  }
 ],
 "metadata": {
  "kernelspec": {
   "display_name": "Python 3",
   "language": "python",
   "name": "python3"
  },
  "language_info": {
   "codemirror_mode": {
    "name": "ipython",
    "version": 3
   },
   "file_extension": ".py",
   "mimetype": "text/x-python",
   "name": "python",
   "nbconvert_exporter": "python",
   "pygments_lexer": "ipython3",
   "version": "3.12.3"
  }
 },
 "nbformat": 4,
 "nbformat_minor": 2
}
