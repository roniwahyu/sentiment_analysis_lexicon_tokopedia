{
 "cells": [
  {
   "cell_type": "markdown",
   "id": "8aba8a36-963b-49af-9315-818524614fd1",
   "metadata": {},
   "source": [
    "## GANTI KATA TIDAK BAKU (*SLANG WORD*)"
   ]
  },
  {
   "cell_type": "code",
   "execution_count": 2,
   "id": "5ba8ab71-5020-453f-8226-267876193389",
   "metadata": {},
   "outputs": [],
   "source": [
    "import json\n",
    "\n",
    "# Menggunakan kamus kata gaul Salsabila \n",
    "with open(\"kamus/nasalsabila_kamus-alay/_json_colloquial-indonesian-lexicon.txt\") as f:\n",
    "    data = f.read()\n",
    "# Rekonstruksi data sebagai 'dict'\n",
    "lookp_dict = json.loads(data)"
   ]
  },
  {
   "cell_type": "code",
   "execution_count": 7,
   "id": "532250de-08c3-410b-80ed-4f8d63ce0b2a",
   "metadata": {},
   "outputs": [],
   "source": [
    "import os\n",
    "\n",
    "# Gunakan path absolut atau relative yang lebih aman\n",
    "# Pastikan path ini sesuai dengan direktori proyek Anda\n",
    "path_to_hasil = os.path.join(os.getcwd(), \"\")  # Menggabungkan current directory dengan folder \"hasil\"\n",
    "\n",
    "# Cek apakah direktori ada sebelum mencoba mengakses\n",
    "if os.path.exists(path_to_hasil):\n",
    "    os.chdir(path_to_hasil)\n",
    "else:\n",
    "    print(f\"Folder 'hasil' tidak ditemukan di {path_to_hasil}\")\n",
    "\n",
    "base = \"1_clean_posneg.txt\"\n",
    "# Buka file input file dan baca baris per baris\n",
    "file_path = os.path.join(path_to_hasil, base)  # Membuat path lengkap ke file\n",
    "if os.path.exists(file_path):\n",
    "    with open(file_path, 'r') as input_stream:\n",
    "        input_stream_lines = input_stream.readlines()\n",
    "else:\n",
    "    print(f\"File {base} tidak ditemukan di folder {path_to_hasil}\")\n",
    "\n",
    "# Buka file input file dan baca baris per baris\n",
    "# input_stream = open(base, 'r')\n",
    "# input_stream_lines = input_stream.readlines()\n",
    "# input_stream.close()"
   ]
  },
  {
   "cell_type": "code",
   "execution_count": 8,
   "id": "197f5976-7df1-42b7-8942-e15e5223b13c",
   "metadata": {},
   "outputs": [],
   "source": [
    "# Memisahkan teks dan label dari input\n",
    "text = []\n",
    "for line in input_stream_lines:\n",
    "    text.append(line.split(\"\\t\")[0])\n",
    "    \n",
    "label = []\n",
    "for line in input_stream_lines:\n",
    "    label.append(line.split(\"\\t\")[1])"
   ]
  },
  {
   "cell_type": "code",
   "execution_count": 9,
   "id": "d80aeb4b-34bf-474b-b433-a43d481af398",
   "metadata": {},
   "outputs": [],
   "source": [
    "# Buat file output\n",
    "output = os.path.splitext(base)[0]+'-slang.txt'\n",
    "\n",
    "with open(output, 'w') as f:\n",
    "    # Mengganti setiap kata yang ditemukan di input file dan menggantinya dengan kata pengganti di kamus\n",
    "    for line in text:\n",
    "        res = \" \".join(lookp_dict.get(ele, ele) for ele in line.split())\n",
    "        # Tulis setiap baris yang sudah dikoreksi ke file output\n",
    "        f.write(str(res)+'\\n')"
   ]
  },
  {
   "cell_type": "code",
   "execution_count": null,
   "id": "fdcbe28b-0ed1-4047-a0f4-dc92afabc3d7",
   "metadata": {},
   "outputs": [],
   "source": []
  },
  {
   "cell_type": "markdown",
   "id": "78f79da6-ad1e-4115-8954-b2193a028946",
   "metadata": {},
   "source": [
    "## HAPUS *STOP WORDS*"
   ]
  },
  {
   "cell_type": "code",
   "execution_count": 10,
   "id": "cb68e339-070a-41e4-9707-e6534062462c",
   "metadata": {},
   "outputs": [
    {
     "ename": "NameError",
     "evalue": "name 'hasil' is not defined",
     "output_type": "error",
     "traceback": [
      "\u001b[1;31m---------------------------------------------------------------------------\u001b[0m",
      "\u001b[1;31mNameError\u001b[0m                                 Traceback (most recent call last)",
      "Cell \u001b[1;32mIn[10], line 1\u001b[0m\n\u001b[1;32m----> 1\u001b[0m base \u001b[38;5;241m=\u001b[39m \u001b[43mhasil\u001b[49m\n\u001b[0;32m      3\u001b[0m \u001b[38;5;66;03m# Buka file input file dan membacanya 'kata per kata' di tiap baris\u001b[39;00m\n\u001b[0;32m      4\u001b[0m input_stream \u001b[38;5;241m=\u001b[39m \u001b[38;5;28mopen\u001b[39m(base, \u001b[38;5;124m'\u001b[39m\u001b[38;5;124mr\u001b[39m\u001b[38;5;124m'\u001b[39m)\n",
      "\u001b[1;31mNameError\u001b[0m: name 'hasil' is not defined"
     ]
    }
   ],
   "source": [
    "base = hasil\n",
    "\n",
    "# Buka file input file dan membacanya 'kata per kata' di tiap baris\n",
    "input_stream = open(base, 'r')\n",
    "lines = input_stream.read().splitlines()\n",
    "input_stream.close()\n",
    "\n",
    "# Menggunakan Wahid ID-Stopwords\n",
    "# Pastikan untuk mengganti path dengan absolute path direktorimu jika baris berikut dijalankan ulang, atau restart kernel.\n",
    "with open('../kamus/masdevid_id-stopwords/id.stopwords.02.01.2016.txt') as f:\n",
    "    custom_stop = f.read().splitlines()"
   ]
  },
  {
   "cell_type": "code",
   "execution_count": 6,
   "id": "3b4e2876-6a51-4fcf-ac27-9b37b2c309d6",
   "metadata": {},
   "outputs": [
    {
     "name": "stdout",
     "output_type": "stream",
     "text": [
      "['ada', 'adalah', 'adanya']\n"
     ]
    }
   ],
   "source": [
    "from nltk.corpus import stopwords\n",
    "\n",
    "# memanfaatkan modul stopwords NLTK untuk menggunakan stopwords kustom\n",
    "stopwords = stopwords.words('indonesian')\n",
    "stopwords.clear()\n",
    "stopwords.extend(custom_stop)\n",
    "print(stopwords[:3])"
   ]
  },
  {
   "cell_type": "code",
   "execution_count": 7,
   "id": "1d4c61cd-b79e-437d-8224-15759688c823",
   "metadata": {},
   "outputs": [],
   "source": [
    "# Buat file output\n",
    "output = os.path.splitext(base)[0]+'-stop.txt'\n",
    "\n",
    "count=0\n",
    "with open(output, 'w') as f:\n",
    "    # Menghapus stopword yang ditemukan di setiap baris\n",
    "    for line in lines:\n",
    "        s = \"\"\n",
    "        words = line.split()\n",
    "        for w in words:\n",
    "            if not w in stopwords:\n",
    "                s+=str(w)+\" \"\n",
    "        res = s\n",
    "\n",
    "        # Tulis setiap baris yang sudah dikoreksi ke file output\n",
    "        # dan mengembalikan label awal\n",
    "        f.write(str(res+\"\\t\"+label[count]))\n",
    "        count+=1"
   ]
  },
  {
   "cell_type": "code",
   "execution_count": null,
   "id": "4e30d8a7-a23b-4216-bf1f-c01e05b1a5a1",
   "metadata": {},
   "outputs": [],
   "source": []
  }
 ],
 "metadata": {
  "kernelspec": {
   "display_name": "Python 3",
   "language": "python",
   "name": "python3"
  },
  "language_info": {
   "codemirror_mode": {
    "name": "ipython",
    "version": 3
   },
   "file_extension": ".py",
   "mimetype": "text/x-python",
   "name": "python",
   "nbconvert_exporter": "python",
   "pygments_lexer": "ipython3",
   "version": "3.12.3"
  }
 },
 "nbformat": 4,
 "nbformat_minor": 5
}
